{
 "cells": [
  {
   "cell_type": "code",
   "execution_count": 64,
   "metadata": {},
   "outputs": [],
   "source": [
    "\n",
    "#Импортируем необходимые для работы библиотеки\n",
    "\n",
    "import pandas as pd\n",
    "import pandas.io.sql as psql\n",
    "import psycopg2\n",
    "\n",
    "#проверяем, что есть подключение к базе данных.\n",
    "conn = psycopg2.connect(host = 'localhost',dbname='Course', user='postgres', \n",
    "                        password='postgres',port='5432')\n",
    "cursor = conn.cursor()"
   ]
  },
  {
   "cell_type": "code",
   "execution_count": 65,
   "metadata": {},
   "outputs": [],
   "source": [
    "#функции для коннекта к БД\n",
    "\n",
    "#Реазилуем функцию для поиска логина/пароля из файла, что бы явно их в дальнейшем не указывать.\n",
    "\n",
    "def get_log_pass():\n",
    "    path = '/home/ab170692gda/credentials.ini'\n",
    "    try:\n",
    "        from configparser import ConfigParser\n",
    "    except ImportError:\n",
    "        from ConfigParser import ConfigParser  # ver. < 3.0\n",
    "    \n",
    "    # Инициализация\n",
    "    config = ConfigParser()\n",
    "    \n",
    "    # Вычитка\n",
    "    config.read(path)\n",
    "    \n",
    "    # Получаем логин и пароль\n",
    "    user = config.get('db', 'user')\n",
    "    password = config.get('db', 'password')\n",
    "    return user, password\n",
    "\n",
    "\n",
    "#Реализуем функцию соединения с бд\n",
    "def create_connection(user_name=None, user_pass=None):\n",
    "    if (user_name is None)&(user_pass is None):\n",
    "        user_name, user_pass = get_log_pass()\n",
    "\n",
    "    try:\n",
    "        connector = psycopg2.connect(\n",
    "                        host = 'localhost',\n",
    "                        dbname='Course', \n",
    "                        user=user_name, \n",
    "                        password=user_pass,\n",
    "                        port='5432')\n",
    "\n",
    "        \n",
    "\n",
    "\n",
    "        return connector\n",
    "    except Exception as e:\n",
    "        print('Connect exception: sdfsdf', e)\n",
    "\n",
    "    return None\n",
    "\n",
    "#проверяем корректность\n",
    "a = create_connection()"
   ]
  },
  {
   "cell_type": "code",
   "execution_count": 66,
   "metadata": {},
   "outputs": [
    {
     "name": "stdout",
     "output_type": "stream",
     "text": [
      "    TranID_CSV     DT_CSV  AMT_CSV         Comm_CSV\n",
      "0          124 2021-09-03  2900.52   Get Test Text1\n",
      "1          954 2021-09-16   737.52  Get Test Text11\n",
      "2          896 2021-09-20   456.52  Get Test Text10\n",
      "3          765 2021-08-30  1300.45   Get Test Text9\n",
      "4          876 2021-09-17   786.52   Get test Text8\n",
      "5          654 2021-09-18   567.52   Get Test Text7\n",
      "6          522 2021-09-19  3457.04   Get Test Text6\n",
      "7          754 2021-09-21  7635.52     Get Test Te5\n",
      "8          543 2021-09-22   756.52   Get Test Text4\n",
      "9          431 2021-09-19  4567.52   Get Test Text3\n",
      "10         421 2021-09-20  4566.02   Get Test Text2\n"
     ]
    }
   ],
   "source": [
    "# 1. понимаем список айди из файла\n",
    "header_list  = ['TranID_CSV', 'DT_CSV', 'AMT_CSV', 'Comm_CSV'] #Создаем хэдеры(заголовки) колонок\n",
    "#Вычитываем csv файл\n",
    "data_csv     = pd.read_csv(f'/home/ab170692gda/TestCompareData.csv'\n",
    "                          ,sep=','\n",
    "                          ,decimal=\".\"\n",
    "                          ,names=header_list\n",
    "                          ,parse_dates=['DT_CSV']\n",
    "                           )\n",
    "#Проверяем корректность.\n",
    "print(data_csv) "
   ]
  },
  {
   "cell_type": "code",
   "execution_count": 67,
   "metadata": {},
   "outputs": [
    {
     "name": "stdout",
     "output_type": "stream",
     "text": [
      "    tranid          dt      amt             comm\n",
      "0      765  2021-08-30  1200.45   Get Test Text9\n",
      "1      421  2021-09-20  4566.02   Get Test Text2\n",
      "2      754  2021-09-21  7635.52   Get Test Text5\n",
      "3      431  2021-09-19  4567.52   Get Test Text3\n",
      "4      896  2021-09-20   456.52  Get Test Text10\n",
      "5      543  2021-09-22   756.52   Get Test Text4\n",
      "6      522  2021-09-19  3457.04   Get Test Text6\n",
      "7      124  2021-09-21  2900.52   Get Test Text1\n",
      "8      954  2021-09-22   757.52  Get Test Text11\n",
      "9      876  2021-09-17   786.52   Get Test Text8\n",
      "10     654  2021-09-18   567.52   Get Test Text7\n"
     ]
    }
   ],
   "source": [
    "# 2. по этому списку идем в бд, выгружаем с бд в буфер\n",
    "x = list(data_csv.TranID_CSV)\n",
    "\n",
    "# из массива преобразуем строку\n",
    "placeholders=','.join((map(str, x)))\n",
    "#Указываем запрос с теми айди, которые получили из csv файла\n",
    "query = \"select * from TestCompareData where TRanID in (%s)\"% placeholders\n",
    "\n",
    "#Вызываем запрос в бд используя ранее созданное подключение\n",
    "conn2= create_connection()\n",
    "with conn2 as connector:\n",
    "   data_db= psql.read_sql(query, connector, params=placeholders)\n",
    "\n",
    "#Проверяем корректность\n",
    "print(data_db)\n"
   ]
  },
  {
   "cell_type": "code",
   "execution_count": 68,
   "metadata": {},
   "outputs": [
    {
     "name": "stdout",
     "output_type": "stream",
     "text": [
      "    TranID_CSV     DT_CSV  AMT_CSV         Comm_CSV          dt      amt  \\\n",
      "0          124 2021-09-03  2900.52   Get Test Text1  2021-09-21  2900.52   \n",
      "1          954 2021-09-16   737.52  Get Test Text11  2021-09-22   757.52   \n",
      "2          896 2021-09-20   456.52  Get Test Text10  2021-09-20   456.52   \n",
      "3          765 2021-08-30  1300.45   Get Test Text9  2021-08-30  1200.45   \n",
      "4          876 2021-09-17   786.52   Get test Text8  2021-09-17   786.52   \n",
      "5          654 2021-09-18   567.52   Get Test Text7  2021-09-18   567.52   \n",
      "6          522 2021-09-19  3457.04   Get Test Text6  2021-09-19  3457.04   \n",
      "7          754 2021-09-21  7635.52     Get Test Te5  2021-09-21  7635.52   \n",
      "8          543 2021-09-22   756.52   Get Test Text4  2021-09-22   756.52   \n",
      "9          431 2021-09-19  4567.52   Get Test Text3  2021-09-19  4567.52   \n",
      "10         421 2021-09-20  4566.02   Get Test Text2  2021-09-20  4566.02   \n",
      "\n",
      "               comm  AMT_RES  DT_RES  Comm_RES  \n",
      "0    Get Test Text1     True   False      True  \n",
      "1   Get Test Text11    False   False      True  \n",
      "2   Get Test Text10     True    True      True  \n",
      "3    Get Test Text9    False    True      True  \n",
      "4    Get Test Text8     True    True     False  \n",
      "5    Get Test Text7     True    True      True  \n",
      "6    Get Test Text6     True    True      True  \n",
      "7    Get Test Text5     True    True     False  \n",
      "8    Get Test Text4     True    True      True  \n",
      "9    Get Test Text3     True    True      True  \n",
      "10   Get Test Text2     True    True      True  \n"
     ]
    }
   ],
   "source": [
    "\n",
    "#3. сравниваем данные\n",
    "\n",
    "\n",
    "# \"Забираем\" айди операции\n",
    "data_result = data_csv.join(data_db.set_index('tranid'), on='TranID_CSV')\n",
    "\n",
    "# Указываем толеранс в суммах, пусть будет 2%\n",
    "tolerance=2\n",
    "\n",
    "#проставляем изначально по всем суммам True\n",
    "data_result['AMT_RES'] = True\n",
    "#Высчитываем разницу, если превышение указанной константы - устанавливаем False(как проверка значений не пройдена) \n",
    "data_result.loc[abs(100.-100.*data_result['AMT_CSV'] / data_result['amt'])>=tolerance,'AMT_RES'] = False\n",
    "#Установка NaN значений как False\n",
    "data_result.loc[data_result.amt.isnull(),'AMT_RES'] = False\n",
    "\n",
    "#Сравнивание дат и комментария\n",
    "data_result['DT_RES'] = data_result['DT_CSV'] == data_result['dt']\n",
    "data_result['Comm_RES'] = data_result['Comm_CSV'] == data_result['comm']\n",
    "\n",
    "#Проверка корректности\n",
    "print(data_result)"
   ]
  },
  {
   "cell_type": "code",
   "execution_count": 63,
   "metadata": {},
   "outputs": [],
   "source": [
    "#4. Выгрузка в файл\n",
    "result_folder = f'/home/ab170692gda'\n",
    "\n",
    "data_result[['TranID_CSV'\n",
    "            ,'DT_RES'\n",
    "            ,'AMT_RES'\n",
    "            ,'Comm_RES'\n",
    "            ]].to_csv(f'{result_folder}/resultData.csv'\n",
    "            ,sep=\",\"\n",
    "            ,decimal='.'\n",
    "            # ,header=False\n",
    "            ,index=False)  "
   ]
  },
  {
   "cell_type": "code",
   "execution_count": null,
   "metadata": {},
   "outputs": [],
   "source": []
  }
 ],
 "metadata": {
  "kernelspec": {
   "display_name": "Python 3 (ipykernel)",
   "language": "python",
   "name": "python3"
  },
  "language_info": {
   "codemirror_mode": {
    "name": "ipython",
    "version": 3
   },
   "file_extension": ".py",
   "mimetype": "text/x-python",
   "name": "python",
   "nbconvert_exporter": "python",
   "pygments_lexer": "ipython3",
   "version": "3.8.10"
  }
 },
 "nbformat": 4,
 "nbformat_minor": 4
}
